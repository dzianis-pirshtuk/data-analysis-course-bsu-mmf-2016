{
 "cells": [
  {
   "cell_type": "code",
   "execution_count": 1,
   "metadata": {
    "collapsed": true
   },
   "outputs": [],
   "source": [
    "%matplotlib inline"
   ]
  },
  {
   "cell_type": "code",
   "execution_count": 2,
   "metadata": {
    "collapsed": true
   },
   "outputs": [],
   "source": [
    "from __future__ import absolute_import, print_function, division"
   ]
  },
  {
   "cell_type": "code",
   "execution_count": 3,
   "metadata": {
    "collapsed": true
   },
   "outputs": [],
   "source": [
    "import time\n",
    "import pandas as pd\n",
    "import numpy as np"
   ]
  },
  {
   "cell_type": "code",
   "execution_count": 38,
   "metadata": {
    "collapsed": false
   },
   "outputs": [],
   "source": [
    "# Чтение данных\n",
    "\n",
    "def transform_dollars(income_str):\n",
    "    if isinstance(income_str, basestring):\n",
    "        return float(''.join(income_str[1:].split(',')))\n",
    "    return income_str\n",
    "\n",
    "train_df = pd.read_csv('data/logit_insurance.csv', index_col='INDEX')\n",
    "\n",
    "test_df = pd.read_csv('data/logit_insurance_test.csv', index_col='INDEX')\n",
    "del test_df['TARGET_FLAG']\n",
    "\n",
    "for df in [train_df, test_df]:\n",
    "    del df['TARGET_AMT']\n",
    "    for column in ['INCOME', 'HOME_VAL', 'BLUEBOOK', 'OLDCLAIM']:\n",
    "        df[column] = df[column].apply(transform_dollars)"
   ]
  },
  {
   "cell_type": "code",
   "execution_count": 39,
   "metadata": {
    "collapsed": false
   },
   "outputs": [
    {
     "data": {
      "text/html": [
       "<div>\n",
       "<table border=\"1\" class=\"dataframe\">\n",
       "  <thead>\n",
       "    <tr style=\"text-align: right;\">\n",
       "      <th></th>\n",
       "      <th>TARGET_FLAG</th>\n",
       "      <th>KIDSDRIV</th>\n",
       "      <th>AGE</th>\n",
       "      <th>HOMEKIDS</th>\n",
       "      <th>YOJ</th>\n",
       "      <th>INCOME</th>\n",
       "      <th>PARENT1</th>\n",
       "      <th>HOME_VAL</th>\n",
       "      <th>MSTATUS</th>\n",
       "      <th>SEX</th>\n",
       "      <th>...</th>\n",
       "      <th>BLUEBOOK</th>\n",
       "      <th>TIF</th>\n",
       "      <th>CAR_TYPE</th>\n",
       "      <th>RED_CAR</th>\n",
       "      <th>OLDCLAIM</th>\n",
       "      <th>CLM_FREQ</th>\n",
       "      <th>REVOKED</th>\n",
       "      <th>MVR_PTS</th>\n",
       "      <th>CAR_AGE</th>\n",
       "      <th>URBANICITY</th>\n",
       "    </tr>\n",
       "    <tr>\n",
       "      <th>INDEX</th>\n",
       "      <th></th>\n",
       "      <th></th>\n",
       "      <th></th>\n",
       "      <th></th>\n",
       "      <th></th>\n",
       "      <th></th>\n",
       "      <th></th>\n",
       "      <th></th>\n",
       "      <th></th>\n",
       "      <th></th>\n",
       "      <th></th>\n",
       "      <th></th>\n",
       "      <th></th>\n",
       "      <th></th>\n",
       "      <th></th>\n",
       "      <th></th>\n",
       "      <th></th>\n",
       "      <th></th>\n",
       "      <th></th>\n",
       "      <th></th>\n",
       "      <th></th>\n",
       "    </tr>\n",
       "  </thead>\n",
       "  <tbody>\n",
       "    <tr>\n",
       "      <th>1</th>\n",
       "      <td>0</td>\n",
       "      <td>0</td>\n",
       "      <td>60.0</td>\n",
       "      <td>0</td>\n",
       "      <td>11.0</td>\n",
       "      <td>67349.0</td>\n",
       "      <td>No</td>\n",
       "      <td>0.0</td>\n",
       "      <td>z_No</td>\n",
       "      <td>M</td>\n",
       "      <td>...</td>\n",
       "      <td>14230.0</td>\n",
       "      <td>11</td>\n",
       "      <td>Minivan</td>\n",
       "      <td>yes</td>\n",
       "      <td>4461.0</td>\n",
       "      <td>2</td>\n",
       "      <td>No</td>\n",
       "      <td>3</td>\n",
       "      <td>18.0</td>\n",
       "      <td>Highly Urban/ Urban</td>\n",
       "    </tr>\n",
       "    <tr>\n",
       "      <th>2</th>\n",
       "      <td>0</td>\n",
       "      <td>0</td>\n",
       "      <td>43.0</td>\n",
       "      <td>0</td>\n",
       "      <td>11.0</td>\n",
       "      <td>91449.0</td>\n",
       "      <td>No</td>\n",
       "      <td>257252.0</td>\n",
       "      <td>z_No</td>\n",
       "      <td>M</td>\n",
       "      <td>...</td>\n",
       "      <td>14940.0</td>\n",
       "      <td>1</td>\n",
       "      <td>Minivan</td>\n",
       "      <td>yes</td>\n",
       "      <td>0.0</td>\n",
       "      <td>0</td>\n",
       "      <td>No</td>\n",
       "      <td>0</td>\n",
       "      <td>1.0</td>\n",
       "      <td>Highly Urban/ Urban</td>\n",
       "    </tr>\n",
       "    <tr>\n",
       "      <th>4</th>\n",
       "      <td>0</td>\n",
       "      <td>0</td>\n",
       "      <td>35.0</td>\n",
       "      <td>1</td>\n",
       "      <td>10.0</td>\n",
       "      <td>16039.0</td>\n",
       "      <td>No</td>\n",
       "      <td>124191.0</td>\n",
       "      <td>Yes</td>\n",
       "      <td>z_F</td>\n",
       "      <td>...</td>\n",
       "      <td>4010.0</td>\n",
       "      <td>4</td>\n",
       "      <td>z_SUV</td>\n",
       "      <td>no</td>\n",
       "      <td>38690.0</td>\n",
       "      <td>2</td>\n",
       "      <td>No</td>\n",
       "      <td>3</td>\n",
       "      <td>10.0</td>\n",
       "      <td>Highly Urban/ Urban</td>\n",
       "    </tr>\n",
       "    <tr>\n",
       "      <th>5</th>\n",
       "      <td>0</td>\n",
       "      <td>0</td>\n",
       "      <td>51.0</td>\n",
       "      <td>0</td>\n",
       "      <td>14.0</td>\n",
       "      <td>NaN</td>\n",
       "      <td>No</td>\n",
       "      <td>306251.0</td>\n",
       "      <td>Yes</td>\n",
       "      <td>M</td>\n",
       "      <td>...</td>\n",
       "      <td>15440.0</td>\n",
       "      <td>7</td>\n",
       "      <td>Minivan</td>\n",
       "      <td>yes</td>\n",
       "      <td>0.0</td>\n",
       "      <td>0</td>\n",
       "      <td>No</td>\n",
       "      <td>0</td>\n",
       "      <td>6.0</td>\n",
       "      <td>Highly Urban/ Urban</td>\n",
       "    </tr>\n",
       "    <tr>\n",
       "      <th>6</th>\n",
       "      <td>0</td>\n",
       "      <td>0</td>\n",
       "      <td>50.0</td>\n",
       "      <td>0</td>\n",
       "      <td>NaN</td>\n",
       "      <td>114986.0</td>\n",
       "      <td>No</td>\n",
       "      <td>243925.0</td>\n",
       "      <td>Yes</td>\n",
       "      <td>z_F</td>\n",
       "      <td>...</td>\n",
       "      <td>18000.0</td>\n",
       "      <td>1</td>\n",
       "      <td>z_SUV</td>\n",
       "      <td>no</td>\n",
       "      <td>19217.0</td>\n",
       "      <td>2</td>\n",
       "      <td>Yes</td>\n",
       "      <td>3</td>\n",
       "      <td>17.0</td>\n",
       "      <td>Highly Urban/ Urban</td>\n",
       "    </tr>\n",
       "  </tbody>\n",
       "</table>\n",
       "<p>5 rows × 24 columns</p>\n",
       "</div>"
      ],
      "text/plain": [
       "       TARGET_FLAG  KIDSDRIV   AGE  HOMEKIDS   YOJ    INCOME PARENT1  \\\n",
       "INDEX                                                                  \n",
       "1                0         0  60.0         0  11.0   67349.0      No   \n",
       "2                0         0  43.0         0  11.0   91449.0      No   \n",
       "4                0         0  35.0         1  10.0   16039.0      No   \n",
       "5                0         0  51.0         0  14.0       NaN      No   \n",
       "6                0         0  50.0         0   NaN  114986.0      No   \n",
       "\n",
       "       HOME_VAL MSTATUS  SEX         ...          BLUEBOOK TIF  CAR_TYPE  \\\n",
       "INDEX                                ...                                   \n",
       "1           0.0    z_No    M         ...           14230.0  11   Minivan   \n",
       "2      257252.0    z_No    M         ...           14940.0   1   Minivan   \n",
       "4      124191.0     Yes  z_F         ...            4010.0   4     z_SUV   \n",
       "5      306251.0     Yes    M         ...           15440.0   7   Minivan   \n",
       "6      243925.0     Yes  z_F         ...           18000.0   1     z_SUV   \n",
       "\n",
       "      RED_CAR  OLDCLAIM  CLM_FREQ REVOKED MVR_PTS  CAR_AGE  \\\n",
       "INDEX                                                        \n",
       "1         yes    4461.0         2      No       3     18.0   \n",
       "2         yes       0.0         0      No       0      1.0   \n",
       "4          no   38690.0         2      No       3     10.0   \n",
       "5         yes       0.0         0      No       0      6.0   \n",
       "6          no   19217.0         2     Yes       3     17.0   \n",
       "\n",
       "                URBANICITY  \n",
       "INDEX                       \n",
       "1      Highly Urban/ Urban  \n",
       "2      Highly Urban/ Urban  \n",
       "4      Highly Urban/ Urban  \n",
       "5      Highly Urban/ Urban  \n",
       "6      Highly Urban/ Urban  \n",
       "\n",
       "[5 rows x 24 columns]"
      ]
     },
     "execution_count": 39,
     "metadata": {},
     "output_type": "execute_result"
    }
   ],
   "source": [
    "train_df.head()"
   ]
  },
  {
   "cell_type": "code",
   "execution_count": 41,
   "metadata": {
    "collapsed": false
   },
   "outputs": [
    {
     "data": {
      "text/plain": [
       "KIDSDRIV        int64\n",
       "AGE           float64\n",
       "HOMEKIDS        int64\n",
       "YOJ           float64\n",
       "INCOME        float64\n",
       "PARENT1        object\n",
       "HOME_VAL      float64\n",
       "MSTATUS        object\n",
       "SEX            object\n",
       "EDUCATION      object\n",
       "JOB            object\n",
       "TRAVTIME        int64\n",
       "CAR_USE        object\n",
       "BLUEBOOK      float64\n",
       "TIF             int64\n",
       "CAR_TYPE       object\n",
       "RED_CAR        object\n",
       "OLDCLAIM      float64\n",
       "CLM_FREQ        int64\n",
       "REVOKED        object\n",
       "MVR_PTS         int64\n",
       "CAR_AGE       float64\n",
       "URBANICITY     object\n",
       "dtype: object"
      ]
     },
     "execution_count": 41,
     "metadata": {},
     "output_type": "execute_result"
    }
   ],
   "source": [
    "# Какие данные нам доступны и их типы\n",
    "\n",
    "test_df.dtypes"
   ]
  },
  {
   "cell_type": "code",
   "execution_count": 42,
   "metadata": {
    "collapsed": true
   },
   "outputs": [],
   "source": [
    "# Превращает категориальные признаки в бинарные\n",
    "\n",
    "train_df2 = pd.get_dummies(train_df, dummy_na=False)\n",
    "test_df2 = pd.get_dummies(test_df, dummy_na=False)"
   ]
  },
  {
   "cell_type": "code",
   "execution_count": 43,
   "metadata": {
    "collapsed": false
   },
   "outputs": [
    {
     "data": {
      "text/plain": [
       "KIDSDRIV                              int64\n",
       "AGE                                 float64\n",
       "HOMEKIDS                              int64\n",
       "YOJ                                 float64\n",
       "INCOME                              float64\n",
       "HOME_VAL                            float64\n",
       "TRAVTIME                              int64\n",
       "BLUEBOOK                            float64\n",
       "TIF                                   int64\n",
       "OLDCLAIM                            float64\n",
       "CLM_FREQ                              int64\n",
       "MVR_PTS                               int64\n",
       "CAR_AGE                             float64\n",
       "PARENT1_No                          float64\n",
       "PARENT1_Yes                         float64\n",
       "MSTATUS_Yes                         float64\n",
       "MSTATUS_z_No                        float64\n",
       "SEX_M                               float64\n",
       "SEX_z_F                             float64\n",
       "EDUCATION_<High School              float64\n",
       "EDUCATION_Bachelors                 float64\n",
       "EDUCATION_Masters                   float64\n",
       "EDUCATION_PhD                       float64\n",
       "EDUCATION_z_High School             float64\n",
       "JOB_Clerical                        float64\n",
       "JOB_Doctor                          float64\n",
       "JOB_Home Maker                      float64\n",
       "JOB_Lawyer                          float64\n",
       "JOB_Manager                         float64\n",
       "JOB_Professional                    float64\n",
       "JOB_Student                         float64\n",
       "JOB_z_Blue Collar                   float64\n",
       "CAR_USE_Commercial                  float64\n",
       "CAR_USE_Private                     float64\n",
       "CAR_TYPE_Minivan                    float64\n",
       "CAR_TYPE_Panel Truck                float64\n",
       "CAR_TYPE_Pickup                     float64\n",
       "CAR_TYPE_Sports Car                 float64\n",
       "CAR_TYPE_Van                        float64\n",
       "CAR_TYPE_z_SUV                      float64\n",
       "RED_CAR_no                          float64\n",
       "RED_CAR_yes                         float64\n",
       "REVOKED_No                          float64\n",
       "REVOKED_Yes                         float64\n",
       "URBANICITY_Highly Urban/ Urban      float64\n",
       "URBANICITY_z_Highly Rural/ Rural    float64\n",
       "dtype: object"
      ]
     },
     "execution_count": 43,
     "metadata": {},
     "output_type": "execute_result"
    }
   ],
   "source": [
    "test_df2.dtypes"
   ]
  },
  {
   "cell_type": "code",
   "execution_count": 44,
   "metadata": {
    "collapsed": false
   },
   "outputs": [
    {
     "data": {
      "text/plain": [
       "['KIDSDRIV',\n",
       " 'AGE',\n",
       " 'HOMEKIDS',\n",
       " 'YOJ',\n",
       " 'INCOME',\n",
       " 'HOME_VAL',\n",
       " 'TRAVTIME',\n",
       " 'BLUEBOOK',\n",
       " 'TIF',\n",
       " 'OLDCLAIM',\n",
       " 'CLM_FREQ',\n",
       " 'MVR_PTS',\n",
       " 'CAR_AGE',\n",
       " 'PARENT1_No',\n",
       " 'PARENT1_Yes',\n",
       " 'MSTATUS_Yes',\n",
       " 'MSTATUS_z_No',\n",
       " 'SEX_M',\n",
       " 'SEX_z_F',\n",
       " 'EDUCATION_<High School',\n",
       " 'EDUCATION_Bachelors',\n",
       " 'EDUCATION_Masters',\n",
       " 'EDUCATION_PhD',\n",
       " 'EDUCATION_z_High School',\n",
       " 'JOB_Clerical',\n",
       " 'JOB_Doctor',\n",
       " 'JOB_Home Maker',\n",
       " 'JOB_Lawyer',\n",
       " 'JOB_Manager',\n",
       " 'JOB_Professional',\n",
       " 'JOB_Student',\n",
       " 'JOB_z_Blue Collar',\n",
       " 'CAR_USE_Commercial',\n",
       " 'CAR_USE_Private',\n",
       " 'CAR_TYPE_Minivan',\n",
       " 'CAR_TYPE_Panel Truck',\n",
       " 'CAR_TYPE_Pickup',\n",
       " 'CAR_TYPE_Sports Car',\n",
       " 'CAR_TYPE_Van',\n",
       " 'CAR_TYPE_z_SUV',\n",
       " 'RED_CAR_no',\n",
       " 'RED_CAR_yes',\n",
       " 'REVOKED_No',\n",
       " 'REVOKED_Yes',\n",
       " 'URBANICITY_Highly Urban/ Urban',\n",
       " 'URBANICITY_z_Highly Rural/ Rural']"
      ]
     },
     "execution_count": 44,
     "metadata": {},
     "output_type": "execute_result"
    }
   ],
   "source": [
    "features = list(test_df2.columns)\n",
    "\n",
    "features"
   ]
  },
  {
   "cell_type": "code",
   "execution_count": null,
   "metadata": {
    "collapsed": true
   },
   "outputs": [],
   "source": [
    "# Самое банальное удаление пропусков\n",
    "\n",
    "for df in [train_df, test_df]:\n",
    "    df.fillna(-999., inplace=True)"
   ]
  },
  {
   "cell_type": "code",
   "execution_count": 20,
   "metadata": {
    "collapsed": false
   },
   "outputs": [],
   "source": [
    "from sklearn.cross_validation import cross_val_score\n",
    "\n",
    "from sklearn.linear_model import LogisticRegression\n",
    "from sklearn.pipeline import Pipeline\n",
    "from sklearn.preprocessing import StandardScaler"
   ]
  },
  {
   "cell_type": "code",
   "execution_count": 34,
   "metadata": {
    "collapsed": false
   },
   "outputs": [
    {
     "data": {
      "text/plain": [
       "Pipeline(steps=[('scaler', StandardScaler(copy=True, with_mean=True, with_std=True)), ('est', LogisticRegression(C=1.0, class_weight=None, dual=False, fit_intercept=True,\n",
       "          intercept_scaling=1, max_iter=100, multi_class='ovr', n_jobs=-1,\n",
       "          penalty='l2', random_state=None, solver='liblinear', tol=0.0001,\n",
       "          verbose=0, warm_start=False))])"
      ]
     },
     "execution_count": 34,
     "metadata": {},
     "output_type": "execute_result"
    }
   ],
   "source": [
    "est = Pipeline([\n",
    "    ('scaler', StandardScaler()),\n",
    "    ('est', LogisticRegression(n_jobs=-1)),\n",
    "])\n",
    "\n",
    "crossval_results = cross_val_score(est,\n",
    "                                   train_df2[features], train_df2.TARGET_FLAG,\n",
    "                                   scoring='roc_auc', cv=10)\n",
    "\n",
    "est.fit(train_df2[features], train_df2.TARGET_FLAG)"
   ]
  },
  {
   "cell_type": "code",
   "execution_count": 35,
   "metadata": {
    "collapsed": false
   },
   "outputs": [
    {
     "name": "stdout",
     "output_type": "stream",
     "text": [
      "Cross validation results: 0.808223118804 +/- 0.0165819358473\n"
     ]
    }
   ],
   "source": [
    "print(\"Cross validation results: {} +/- {}\".format(\n",
    "        crossval_results.mean(), crossval_results.std()))"
   ]
  },
  {
   "cell_type": "code",
   "execution_count": 37,
   "metadata": {
    "collapsed": false
   },
   "outputs": [
    {
     "name": "stdout",
     "output_type": "stream",
     "text": [
      "Submission filename: my_submission_2016-09-18_21:05:13.csv\n"
     ]
    }
   ],
   "source": [
    "submission = pd.read_csv('data/Prob_outkey_random.csv', index_col='INDEX')\n",
    "submission.P_TARGET_FLAG = est.predict_proba(test_df2[features])[:,1]\n",
    "\n",
    "filename = 'predictions/my_submission_{}.csv'.format(time.strftime('%Y-%m-%d_%H:%M:%S'))\n",
    "submission.to_csv(filename)\n",
    "\n",
    "print(\"Submission filename:\", filename)"
   ]
  }
 ],
 "metadata": {
  "kernelspec": {
   "display_name": "Python [Root]",
   "language": "python",
   "name": "Python [Root]"
  },
  "language_info": {
   "codemirror_mode": {
    "name": "ipython",
    "version": 2
   },
   "file_extension": ".py",
   "mimetype": "text/x-python",
   "name": "python",
   "nbconvert_exporter": "python",
   "pygments_lexer": "ipython2",
   "version": "2.7.12"
  }
 },
 "nbformat": 4,
 "nbformat_minor": 0
}
