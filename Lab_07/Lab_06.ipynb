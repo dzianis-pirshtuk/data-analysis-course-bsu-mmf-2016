{
 "cells": [
  {
   "cell_type": "code",
   "execution_count": 20,
   "metadata": {
    "collapsed": true
   },
   "outputs": [],
   "source": [
    "%matplotlib inline"
   ]
  },
  {
   "cell_type": "code",
   "execution_count": 313,
   "metadata": {
    "collapsed": true
   },
   "outputs": [],
   "source": [
    "import plotly.plotly as py\n",
    "py.sign_in('your_login', 'your_api_key')\n",
    "\n",
    "from plotly.graph_objs import *"
   ]
  },
  {
   "cell_type": "code",
   "execution_count": 3,
   "metadata": {
    "collapsed": false
   },
   "outputs": [],
   "source": [
    "import pandas as pd\n",
    "from six import print_"
   ]
  },
  {
   "cell_type": "markdown",
   "metadata": {},
   "source": [
    "Подключаемся к SQLite3-базе"
   ]
  },
  {
   "cell_type": "code",
   "execution_count": null,
   "metadata": {
    "collapsed": true
   },
   "outputs": [],
   "source": [
    "from sqlalchemy import create_engine\n",
    "\n",
    "eng = create_engine(\"sqlite:///service311.db\")\n",
    "conn = eng.connect()"
   ]
  },
  {
   "cell_type": "markdown",
   "metadata": {},
   "source": [
    "Пример одной строки из таблицы `service311`"
   ]
  },
  {
   "cell_type": "code",
   "execution_count": 106,
   "metadata": {
    "collapsed": false
   },
   "outputs": [
    {
     "data": {
      "text/html": [
       "<div>\n",
       "<table border=\"1\" class=\"dataframe\">\n",
       "  <thead>\n",
       "    <tr style=\"text-align: right;\">\n",
       "      <th></th>\n",
       "      <th>Unique Key</th>\n",
       "      <th>Created Date</th>\n",
       "      <th>Closed Date</th>\n",
       "      <th>Agency</th>\n",
       "      <th>Agency Name</th>\n",
       "      <th>Complaint Type</th>\n",
       "      <th>Descriptor</th>\n",
       "      <th>Location Type</th>\n",
       "      <th>Incident Zip</th>\n",
       "      <th>Incident Address</th>\n",
       "      <th>...</th>\n",
       "      <th>Bridge Highway Name</th>\n",
       "      <th>Bridge Highway Direction</th>\n",
       "      <th>Road Ramp</th>\n",
       "      <th>Bridge Highway Segment</th>\n",
       "      <th>Garage Lot Name</th>\n",
       "      <th>Ferry Direction</th>\n",
       "      <th>Ferry Terminal Name</th>\n",
       "      <th>Latitude</th>\n",
       "      <th>Longitude</th>\n",
       "      <th>Location</th>\n",
       "    </tr>\n",
       "  </thead>\n",
       "  <tbody>\n",
       "    <tr>\n",
       "      <th>0</th>\n",
       "      <td>31015465</td>\n",
       "      <td>07/06/2015 10:58:27 AM</td>\n",
       "      <td>07/22/2015 01:07:20 AM</td>\n",
       "      <td>DCA</td>\n",
       "      <td>Department of Consumer Affairs</td>\n",
       "      <td>Consumer Complaint</td>\n",
       "      <td>Demand for Cash</td>\n",
       "      <td></td>\n",
       "      <td>11360.0</td>\n",
       "      <td>27-16 203 STREET</td>\n",
       "      <td>...</td>\n",
       "      <td></td>\n",
       "      <td></td>\n",
       "      <td></td>\n",
       "      <td></td>\n",
       "      <td></td>\n",
       "      <td></td>\n",
       "      <td></td>\n",
       "      <td>40.77354</td>\n",
       "      <td>-73.788237</td>\n",
       "      <td>(40.773539552542, -73.78823697228408)</td>\n",
       "    </tr>\n",
       "  </tbody>\n",
       "</table>\n",
       "<p>1 rows × 53 columns</p>\n",
       "</div>"
      ],
      "text/plain": [
       "   Unique Key            Created Date             Closed Date Agency  \\\n",
       "0    31015465  07/06/2015 10:58:27 AM  07/22/2015 01:07:20 AM    DCA   \n",
       "\n",
       "                      Agency Name      Complaint Type       Descriptor  \\\n",
       "0  Department of Consumer Affairs  Consumer Complaint  Demand for Cash   \n",
       "\n",
       "  Location Type  Incident Zip  Incident Address  \\\n",
       "0                     11360.0  27-16 203 STREET   \n",
       "\n",
       "                   ...                   Bridge Highway Name  \\\n",
       "0                  ...                                         \n",
       "\n",
       "  Bridge Highway Direction Road Ramp Bridge Highway Segment Garage Lot Name  \\\n",
       "0                                                                             \n",
       "\n",
       "  Ferry Direction Ferry Terminal Name  Latitude  Longitude  \\\n",
       "0                                      40.77354 -73.788237   \n",
       "\n",
       "                                Location  \n",
       "0  (40.773539552542, -73.78823697228408)  \n",
       "\n",
       "[1 rows x 53 columns]"
      ]
     },
     "execution_count": 106,
     "metadata": {},
     "output_type": "execute_result"
    }
   ],
   "source": [
    "pd.read_sql_query(\"SELECT * FROM service311 LIMIT 1;\", conn)"
   ]
  },
  {
   "cell_type": "markdown",
   "metadata": {},
   "source": [
    "Список всех колонок"
   ]
  },
  {
   "cell_type": "code",
   "execution_count": 105,
   "metadata": {
    "collapsed": false
   },
   "outputs": [
    {
     "data": {
      "text/plain": [
       "[u'Unique Key',\n",
       " u'Created Date',\n",
       " u'Closed Date',\n",
       " u'Agency',\n",
       " u'Agency Name',\n",
       " u'Complaint Type',\n",
       " u'Descriptor',\n",
       " u'Location Type',\n",
       " u'Incident Zip',\n",
       " u'Incident Address',\n",
       " u'Street Name',\n",
       " u'Cross Street 1',\n",
       " u'Cross Street 2',\n",
       " u'Intersection Street 1',\n",
       " u'Intersection Street 2',\n",
       " u'Address Type',\n",
       " u'City',\n",
       " u'Landmark',\n",
       " u'Facility Type',\n",
       " u'Status',\n",
       " u'Due Date',\n",
       " u'Resolution Description',\n",
       " u'Resolution Action Updated Date',\n",
       " u'Community Board',\n",
       " u'Borough',\n",
       " u'X Coordinate (State Plane)',\n",
       " u'Y Coordinate (State Plane)',\n",
       " u'Park Facility Name',\n",
       " u'Park Borough',\n",
       " u'School Name',\n",
       " u'School Number',\n",
       " u'School Region',\n",
       " u'School Code',\n",
       " u'School Phone Number',\n",
       " u'School Address',\n",
       " u'School City',\n",
       " u'School State',\n",
       " u'School Zip',\n",
       " u'School Not Found',\n",
       " u'School or Citywide Complaint',\n",
       " u'Vehicle Type',\n",
       " u'Taxi Company Borough',\n",
       " u'Taxi Pick Up Location',\n",
       " u'Bridge Highway Name',\n",
       " u'Bridge Highway Direction',\n",
       " u'Road Ramp',\n",
       " u'Bridge Highway Segment',\n",
       " u'Garage Lot Name',\n",
       " u'Ferry Direction',\n",
       " u'Ferry Terminal Name',\n",
       " u'Latitude',\n",
       " u'Longitude',\n",
       " u'Location']"
      ]
     },
     "execution_count": 105,
     "metadata": {},
     "output_type": "execute_result"
    }
   ],
   "source": [
    "list(pd.read_sql_query(\"SELECT * FROM service311 LIMIT 1;\", conn).columns)"
   ]
  },
  {
   "cell_type": "markdown",
   "metadata": {},
   "source": [
    "Получите из базы ТОП-10 самых популярных по количеству обращений в службу 311 городов (без учета регистра) в районе Нью Йорка."
   ]
  },
  {
   "cell_type": "code",
   "execution_count": 212,
   "metadata": {
    "collapsed": false
   },
   "outputs": [
    {
     "data": {
      "text/html": [
       "<iframe id=\"igraph\" scrolling=\"no\" style=\"border:none;\" seamless=\"seamless\" src=\"https://plot.ly/~dpirshtuk/47.embed\" height=\"525px\" width=\"100%\"></iframe>"
      ],
      "text/plain": [
       "<plotly.tools.PlotlyDisplay object>"
      ]
     },
     "execution_count": 212,
     "metadata": {},
     "output_type": "execute_result"
    }
   ],
   "source": [
    "cities = pd.read_sql_query(\"YOUR SQL QUERY\", conn)\n",
    "\n",
    "data = [Bar(x=cities['city'], y=cities['counts'])]\n",
    "py.iplot(data)\n",
    "\n",
    "# Ниже ожидаемый результат"
   ]
  },
  {
   "cell_type": "raw",
   "metadata": {},
   "source": [
    "Постройте аналогичную столбчатую гистограмму без Plot.ly, пользуясь примерами к предыдущим лабораторным работам. "
   ]
  },
  {
   "cell_type": "code",
   "execution_count": 5,
   "metadata": {
    "collapsed": true
   },
   "outputs": [],
   "source": [
    "### YOUR CODE"
   ]
  },
  {
   "cell_type": "markdown",
   "metadata": {},
   "source": [
    "Возьмите ТОП-3 городов из пункта выше, посчитайте для каждого из них количество вызовов в каждый из дней и нарисуйте их на графике. С форматированием дат придется повозитьcя :-)"
   ]
  },
  {
   "cell_type": "code",
   "execution_count": 222,
   "metadata": {
    "collapsed": false
   },
   "outputs": [
    {
     "data": {
      "text/html": [
       "<iframe id=\"igraph\" scrolling=\"no\" style=\"border:none;\" seamless=\"seamless\" src=\"https://plot.ly/~dpirshtuk/57.embed\" height=\"525px\" width=\"100%\"></iframe>"
      ],
      "text/plain": [
       "<plotly.tools.PlotlyDisplay object>"
      ]
     },
     "execution_count": 222,
     "metadata": {},
     "output_type": "execute_result"
    }
   ],
   "source": [
    "dates = {}\n",
    "\n",
    "for city in cities.city[:3]:\n",
    "    df = pd.read_sql_query(\"\"\"\n",
    "        YOUR SQL QUERY\n",
    "    \"\"\".format(city=city), conn)\n",
    "    dates[city] = df\n",
    "    \n",
    "data = [Scatter(x=df['created_at'],y=df['counts'], name=city) for city, df in dates.items()]\n",
    "py.iplot(data)\n",
    "\n",
    "# Ожидаемый результат"
   ]
  },
  {
   "cell_type": "markdown",
   "metadata": {},
   "source": [
    "Сделайте аналогичный график без plot.ly по аналогии с http://playittodeath.ru/Exploratory_graphs.html"
   ]
  },
  {
   "cell_type": "code",
   "execution_count": 7,
   "metadata": {
    "collapsed": true
   },
   "outputs": [],
   "source": [
    "### YOUR CODE HERE"
   ]
  },
  {
   "cell_type": "markdown",
   "metadata": {},
   "source": [
    "Найдите несколько самых популярных разновидностей жалоб (`Descriptor`)"
   ]
  },
  {
   "cell_type": "code",
   "execution_count": 4,
   "metadata": {
    "collapsed": true
   },
   "outputs": [],
   "source": [
    "### YOUR CODE"
   ]
  },
  {
   "cell_type": "markdown",
   "metadata": {},
   "source": [
    "Загрузите в объект `df` поля `Latitude` и `Longitude` тех строк, у которых координаты указаны (`<>''`), поле `Descriptor` равно `Loud Music/Party` и дата с 7 по 9 января 2015 года включительно."
   ]
  },
  {
   "cell_type": "code",
   "execution_count": 308,
   "metadata": {
    "collapsed": false
   },
   "outputs": [],
   "source": [
    "df = pd.read_sql_query(\"\"\"\n",
    "        YOUR SQL Query;\n",
    "    \"\"\", conn)"
   ]
  },
  {
   "cell_type": "code",
   "execution_count": 310,
   "metadata": {
    "collapsed": true
   },
   "outputs": [],
   "source": [
    "points = \", \".join(\"[{},{}]\".format(lat, lon) for lat, lon in zip(df.Latitude, df.Longitude))"
   ]
  },
  {
   "cell_type": "code",
   "execution_count": 311,
   "metadata": {
    "collapsed": false
   },
   "outputs": [],
   "source": [
    "clusters_js = \"\"\"\n",
    "\n",
    "ymaps.ready(function () {{\n",
    "    var myMap = new ymaps.Map('map', {{\n",
    "            center: [{}, {}],\n",
    "            zoom: 9,\n",
    "            behaviors: ['default', 'scrollZoom']\n",
    "        }}, {{\n",
    "            searchControlProvider: 'yandex#search'\n",
    "        }}),\n",
    "        /**\n",
    "         * Создадим кластеризатор, вызвав функцию-конструктор.\n",
    "         * Список всех опций доступен в документации.\n",
    "         * @see https://api.yandex.ru/maps/doc/jsapi/2.1/ref/reference/Clusterer.xml#constructor-summary\n",
    "         */\n",
    "            clusterer = new ymaps.Clusterer({{\n",
    "            /**\n",
    "             * Через кластеризатор можно указать только стили кластеров,\n",
    "             * стили для меток нужно назначать каждой метке отдельно.\n",
    "             * @see https://api.yandex.ru/maps/doc/jsapi/2.1/ref/reference/option.presetStorage.xml\n",
    "             */\n",
    "            preset: 'islands#invertedVioletClusterIcons',\n",
    "            /**\n",
    "             * Ставим true, если хотим кластеризовать только точки с одинаковыми координатами.\n",
    "             */\n",
    "            groupByCoordinates: false,\n",
    "            /**\n",
    "             * Опции кластеров указываем в кластеризаторе с префиксом \"cluster\".\n",
    "             * @see https://api.yandex.ru/maps/doc/jsapi/2.1/ref/reference/ClusterPlacemark.xml\n",
    "             */\n",
    "            clusterDisableClickZoom: true,\n",
    "            clusterHideIconOnBalloonOpen: false,\n",
    "            geoObjectHideIconOnBalloonOpen: false\n",
    "        }}),\n",
    "        /**\n",
    "         * Функция возвращает объект, содержащий данные метки.\n",
    "         * Поле данных clusterCaption будет отображено в списке геообъектов в балуне кластера.\n",
    "         * Поле balloonContentBody - источник данных для контента балуна.\n",
    "         * Оба поля поддерживают HTML-разметку.\n",
    "         * Список полей данных, которые используют стандартные макеты содержимого иконки метки\n",
    "         * и балуна геообъектов, можно посмотреть в документации.\n",
    "         * @see https://api.yandex.ru/maps/doc/jsapi/2.1/ref/reference/GeoObject.xml\n",
    "         */\n",
    "            getPointData = function (index) {{\n",
    "            return {{\n",
    "                balloonContentBody: 'балун <strong>метки ' + index + '</strong>',\n",
    "                clusterCaption: 'метка <strong>' + index + '</strong>'\n",
    "            }};\n",
    "        }},\n",
    "        /**\n",
    "         * Функция возвращает объект, содержащий опции метки.\n",
    "         * Все опции, которые поддерживают геообъекты, можно посмотреть в документации.\n",
    "         * @see https://api.yandex.ru/maps/doc/jsapi/2.1/ref/reference/GeoObject.xml\n",
    "         */\n",
    "            getPointOptions = function () {{\n",
    "            return {{\n",
    "                preset: 'islands#violetIcon'\n",
    "            }};\n",
    "        }},\n",
    "        points = [\n",
    "            {}\n",
    "        ],\n",
    "        geoObjects = [];\n",
    "\n",
    "    /**\n",
    "     * Данные передаются вторым параметром в конструктор метки, опции - третьим.\n",
    "     * @see https://api.yandex.ru/maps/doc/jsapi/2.1/ref/reference/Placemark.xml#constructor-summary\n",
    "     */\n",
    "    for(var i = 0, len = points.length; i < len; i++) {{\n",
    "        geoObjects[i] = new ymaps.Placemark(points[i], getPointData(i), getPointOptions());\n",
    "    }}\n",
    "\n",
    "    /**\n",
    "     * Можно менять опции кластеризатора после создания.\n",
    "     */\n",
    "    clusterer.options.set({{\n",
    "        gridSize: 80,\n",
    "        clusterDisableClickZoom: true\n",
    "    }});\n",
    "\n",
    "    /**\n",
    "     * В кластеризатор можно добавить javascript-массив меток (не геоколлекцию) или одну метку.\n",
    "     * @see https://api.yandex.ru/maps/doc/jsapi/2.1/ref/reference/Clusterer.xml#add\n",
    "     */\n",
    "    clusterer.add(geoObjects);\n",
    "    myMap.geoObjects.add(clusterer);\n",
    "\n",
    "    /**\n",
    "     * Спозиционируем карту так, чтобы на ней были видны все объекты.\n",
    "     */\n",
    "\n",
    "    myMap.setBounds(clusterer.getBounds(), {{\n",
    "        checkZoomRange: true\n",
    "    }});\n",
    "}});\n",
    "\n",
    "\"\"\".format(df.Latitude.mean(), df.Longitude.mean(), points)"
   ]
  },
  {
   "cell_type": "code",
   "execution_count": 312,
   "metadata": {
    "collapsed": true
   },
   "outputs": [],
   "source": [
    "with open('clusters.js', 'w') as fout:\n",
    "    print_(clusters_js, file=fout)"
   ]
  },
  {
   "cell_type": "markdown",
   "metadata": {
    "collapsed": true
   },
   "source": [
    "Откройте Anaconda Promt и командой `python -m SimpleHTTPServer` запустите встроенный Python-вебсервер. Откройте `http://localhost:8000/clusters.html` и посмотрите, что получилось."
   ]
  },
  {
   "cell_type": "markdown",
   "metadata": {},
   "source": [
    "Придумайте еще интересные визуализации этого набора данных (1-2) с помощью библиотек Plot.ly, Seaborn или других."
   ]
  },
  {
   "cell_type": "code",
   "execution_count": 6,
   "metadata": {
    "collapsed": true
   },
   "outputs": [],
   "source": [
    "### YOUR CODE HERE"
   ]
  }
 ],
 "metadata": {
  "anaconda-cloud": {},
  "kernelspec": {
   "display_name": "Python [default]",
   "language": "python",
   "name": "python2"
  },
  "language_info": {
   "codemirror_mode": {
    "name": "ipython",
    "version": 2
   },
   "file_extension": ".py",
   "mimetype": "text/x-python",
   "name": "python",
   "nbconvert_exporter": "python",
   "pygments_lexer": "ipython2",
   "version": "2.7.12"
  }
 },
 "nbformat": 4,
 "nbformat_minor": 1
}
